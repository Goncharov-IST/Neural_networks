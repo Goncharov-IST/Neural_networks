{
  "nbformat": 4,
  "nbformat_minor": 0,
  "metadata": {
    "colab": {
      "name": "NeuralNetwork.ipynb",
      "version": "0.3.2",
      "provenance": [],
      "collapsed_sections": [
        "36npk9aZvOvs",
        "yPFQJgIXyasP",
        "cLDKJN3lTYB5"
      ],
      "include_colab_link": true
    },
    "kernelspec": {
      "name": "python3",
      "display_name": "Python 3"
    }
  },
  "cells": [
    {
      "cell_type": "markdown",
      "metadata": {
        "id": "view-in-github",
        "colab_type": "text"
      },
      "source": [
        "<a href=\"https://colab.research.google.com/github/Goncharov-IST/Neural_networks/blob/master/NeuralNetwork.ipynb\" target=\"_parent\"><img src=\"https://colab.research.google.com/assets/colab-badge.svg\" alt=\"Open In Colab\"/></a>"
      ]
    },
    {
      "metadata": {
        "id": "rHzq7PZ6udN5",
        "colab_type": "text"
      },
      "cell_type": "markdown",
      "source": [
        "# Пример 1"
      ]
    },
    {
      "metadata": {
        "id": "VoLMH-0B3-6F",
        "colab_type": "text"
      },
      "cell_type": "markdown",
      "source": [
        "**Подключаем библиотеки и дополнителные инструменты**"
      ]
    },
    {
      "metadata": {
        "id": "mvdV_OvN8OQ5",
        "colab_type": "code",
        "colab": {}
      },
      "cell_type": "code",
      "source": [
        "import numpy as np2 # работа с многомерными массивами\n",
        "from keras.models import Sequential # последовательная модель  \n",
        "from keras.layers import Dense # полносвязные слои\n",
        "from keras.utils import np_utils # дополнительные возможности для работы с массивами\n",
        "import matplotlib.pyplot as plt # построение графиков\n",
        "import matplotlib.pylab as pl\n",
        "from keras import optimizers # функции оптимизаторов\n",
        "from sklearn import preprocessing"
      ],
      "execution_count": 0,
      "outputs": []
    },
    {
      "metadata": {
        "id": "Lnf1yYYk3wUI",
        "colab_type": "text"
      },
      "cell_type": "markdown",
      "source": [
        "**Задаем входные и выходные значения**"
      ]
    },
    {
      "metadata": {
        "id": "gEpjdaFW5PCg",
        "colab_type": "code",
        "colab": {}
      },
      "cell_type": "code",
      "source": [
        "x_train = np2.array([[0, 0], [0, 1], [1, 0], [1, 1]])\n",
        "y_train = np2.array([[0], [0], [0], [1]])"
      ],
      "execution_count": 0,
      "outputs": []
    },
    {
      "metadata": {
        "id": "jm37IBJs4HbK",
        "colab_type": "text"
      },
      "cell_type": "markdown",
      "source": [
        "**Создаем последовательную модель с одним нейроном полносвязного слоя, который имеет двухэлементный вход и один выход\n",
        "Функция активации - relu**"
      ]
    },
    {
      "metadata": {
        "id": "Vf5oXd1yypQ2",
        "colab_type": "code",
        "colab": {
          "base_uri": "https://localhost:8080/",
          "height": 68
        },
        "outputId": "8e0f0a8a-9a50-4212-c823-800a9e90b5d2"
      },
      "cell_type": "code",
      "source": [
        "model1 = Sequential()\n",
        "model1.add(Dense(1, input_dim=2, activation=\"relu\"))"
      ],
      "execution_count": 4,
      "outputs": [
        {
          "output_type": "stream",
          "text": [
            "WARNING:tensorflow:From /usr/local/lib/python3.6/dist-packages/tensorflow/python/framework/op_def_library.py:263: colocate_with (from tensorflow.python.framework.ops) is deprecated and will be removed in a future version.\n",
            "Instructions for updating:\n",
            "Colocations handled automatically by placer.\n"
          ],
          "name": "stdout"
        }
      ]
    },
    {
      "metadata": {
        "id": "w6LLppx-5Y3N",
        "colab_type": "text"
      },
      "cell_type": "markdown",
      "source": [
        "**Выводим график функции активации relu**"
      ]
    },
    {
      "metadata": {
        "id": "UfFmWST94wR8",
        "colab_type": "code",
        "outputId": "6e93389b-5434-4445-bc17-5df6abc6ce9e",
        "colab": {
          "base_uri": "https://localhost:8080/",
          "height": 347
        }
      },
      "cell_type": "code",
      "source": [
        "def relu(x):\n",
        "    return np2.maximum(0, x)\n",
        "  \n",
        "x = np2.arange(-5.0, 5.0, 0.1)\n",
        "y_relu = relu(x)\n",
        "  \n",
        "pl.plot(x, y_relu, label='relu', color='k', lw=1, linestyle='-')\n",
        "plt.ylim(-0.1, 1.1)\n",
        "plt.legend()\n",
        "plt.show()"
      ],
      "execution_count": 5,
      "outputs": [
        {
          "output_type": "display_data",
          "data": {
            "image/png": "[encoded data removed]",
            "text/plain": [
              "<Figure size 576x396 with 1 Axes>"
            ]
          },
          "metadata": {
            "tags": []
          }
        }
      ]
    },
    {
      "metadata": {
        "id": "ulOMe8uK4n9s",
        "colab_type": "text"
      },
      "cell_type": "markdown",
      "source": [
        "**Компилирем модель с оптимизатором SGD и заданными для него параметрами**"
      ]
    },
    {
      "metadata": {
        "id": "Tez8Ki_cy4_M",
        "colab_type": "code",
        "outputId": "453f8039-1eb2-4874-f40b-0b0fc6ef0a0a",
        "colab": {
          "base_uri": "https://localhost:8080/",
          "height": 187
        }
      },
      "cell_type": "code",
      "source": [
        "sgd = optimizers.SGD(lr=0.12, decay=1e-6, momentum=0.9, nesterov=True)\n",
        "#adam = optimizers.Adam(lr=0.1, beta_1=0.9, beta_2=0.999, epsilon=None, decay=0.0, amsgrad=False)\n",
        "model1.compile(loss=\"mean_squared_error\", optimizer=sgd, metrics=['accuracy'])\n",
        "print(model1.summary()) # выводим информация о модели"
      ],
      "execution_count": 6,
      "outputs": [
        {
          "output_type": "stream",
          "text": [
            "_________________________________________________________________\n",
            "Layer (type)                 Output Shape              Param #   \n",
            "=================================================================\n",
            "dense_1 (Dense)              (None, 1)                 3         \n",
            "=================================================================\n",
            "Total params: 3\n",
            "Trainable params: 3\n",
            "Non-trainable params: 0\n",
            "_________________________________________________________________\n",
            "None\n"
          ],
          "name": "stdout"
        }
      ]
    },
    {
      "metadata": {
        "id": "SWNWPonx5qkY",
        "colab_type": "text"
      },
      "cell_type": "markdown",
      "source": [
        "**Симмулируем работу не обученной еще сети**"
      ]
    },
    {
      "metadata": {
        "id": "jEXe9ABLk4S0",
        "colab_type": "code",
        "outputId": "44ca79c0-06da-4c7e-deed-257394276b31",
        "colab": {
          "base_uri": "https://localhost:8080/",
          "height": 85
        }
      },
      "cell_type": "code",
      "source": [
        "prediction1 = model1.predict(x_train)\n",
        "print(prediction1)"
      ],
      "execution_count": 7,
      "outputs": [
        {
          "output_type": "stream",
          "text": [
            "[[0.       ]\n",
            " [0.       ]\n",
            " [1.0269741]\n",
            " [0.9999974]]\n"
          ],
          "name": "stdout"
        }
      ]
    },
    {
      "metadata": {
        "id": "Enh_KT6p52gC",
        "colab_type": "text"
      },
      "cell_type": "markdown",
      "source": [
        "**Обучаем сеть в течение 20ти эпох**"
      ]
    },
    {
      "metadata": {
        "id": "Jw122vV25408",
        "colab_type": "code",
        "outputId": "392705c1-8d1e-4e86-bb1e-cc65ee5b254c",
        "colab": {
          "base_uri": "https://localhost:8080/",
          "height": 748
        }
      },
      "cell_type": "code",
      "source": [
        "history = model1.fit(x_train, y_train, epochs=20, verbose=1)"
      ],
      "execution_count": 8,
      "outputs": [
        {
          "output_type": "stream",
          "text": [
            "WARNING:tensorflow:From /usr/local/lib/python3.6/dist-packages/tensorflow/python/ops/math_ops.py:3066: to_int32 (from tensorflow.python.ops.math_ops) is deprecated and will be removed in a future version.\n",
            "Instructions for updating:\n",
            "Use tf.cast instead.\n",
            "Epoch 1/20\n",
            "4/4 [==============================] - 0s 40ms/step - loss: 0.2637 - acc: 0.7500\n",
            "Epoch 2/20\n",
            "4/4 [==============================] - 0s 333us/step - loss: 0.1708 - acc: 0.7500\n",
            "Epoch 3/20\n",
            "4/4 [==============================] - 0s 380us/step - loss: 0.1272 - acc: 0.7500\n",
            "Epoch 4/20\n",
            "4/4 [==============================] - 0s 682us/step - loss: 0.1133 - acc: 0.7500\n",
            "Epoch 5/20\n",
            "4/4 [==============================] - 0s 466us/step - loss: 0.0989 - acc: 0.7500\n",
            "Epoch 6/20\n",
            "4/4 [==============================] - 0s 890us/step - loss: 0.0743 - acc: 1.0000\n",
            "Epoch 7/20\n",
            "4/4 [==============================] - 0s 289us/step - loss: 0.0472 - acc: 1.0000\n",
            "Epoch 8/20\n",
            "4/4 [==============================] - 0s 379us/step - loss: 0.0309 - acc: 1.0000\n",
            "Epoch 9/20\n",
            "4/4 [==============================] - 0s 676us/step - loss: 0.0276 - acc: 1.0000\n",
            "Epoch 10/20\n",
            "4/4 [==============================] - 0s 384us/step - loss: 0.0266 - acc: 1.0000\n",
            "Epoch 11/20\n",
            "4/4 [==============================] - 0s 755us/step - loss: 0.0249 - acc: 1.0000\n",
            "Epoch 12/20\n",
            "4/4 [==============================] - 0s 554us/step - loss: 0.0232 - acc: 1.0000\n",
            "Epoch 13/20\n",
            "4/4 [==============================] - 0s 708us/step - loss: 0.0211 - acc: 1.0000\n",
            "Epoch 14/20\n",
            "4/4 [==============================] - 0s 1ms/step - loss: 0.0184 - acc: 1.0000\n",
            "Epoch 15/20\n",
            "4/4 [==============================] - 0s 766us/step - loss: 0.0155 - acc: 1.0000\n",
            "Epoch 16/20\n",
            "4/4 [==============================] - 0s 420us/step - loss: 0.0125 - acc: 1.0000\n",
            "Epoch 17/20\n",
            "4/4 [==============================] - 0s 609us/step - loss: 0.0096 - acc: 1.0000\n",
            "Epoch 18/20\n",
            "4/4 [==============================] - 0s 370us/step - loss: 0.0069 - acc: 1.0000\n",
            "Epoch 19/20\n",
            "4/4 [==============================] - 0s 532us/step - loss: 0.0045 - acc: 1.0000\n",
            "Epoch 20/20\n",
            "4/4 [==============================] - 0s 321us/step - loss: 0.0027 - acc: 1.0000\n"
          ],
          "name": "stdout"
        }
      ]
    },
    {
      "metadata": {
        "id": "epwR8uhQ59eq",
        "colab_type": "text"
      },
      "cell_type": "markdown",
      "source": [
        "**Определяем точность работы сети**"
      ]
    },
    {
      "metadata": {
        "id": "thAiuQdvucFk",
        "colab_type": "code",
        "outputId": "d175a3c9-b9cf-4c02-fdc8-cd4138e5850a",
        "colab": {
          "base_uri": "https://localhost:8080/",
          "height": 34
        }
      },
      "cell_type": "code",
      "source": [
        "scores = model1.evaluate(x_train, y_train, verbose=0)\n",
        "print(\"Точность работы на тестовых данных: %.2f%%\" % (scores[1]*100))"
      ],
      "execution_count": 9,
      "outputs": [
        {
          "output_type": "stream",
          "text": [
            "Точность работы на тестовых данных: 100.00%\n"
          ],
          "name": "stdout"
        }
      ]
    },
    {
      "metadata": {
        "id": "w_6fldMF6C9Z",
        "colab_type": "text"
      },
      "cell_type": "markdown",
      "source": [
        "**Выводим графики функции ошибки и аккуратности при обучении сети**"
      ]
    },
    {
      "metadata": {
        "id": "ucJqAuDMum3i",
        "colab_type": "code",
        "outputId": "ed56452d-3988-47ec-b3f7-6fbb553c75b4",
        "colab": {
          "base_uri": "https://localhost:8080/",
          "height": 361
        }
      },
      "cell_type": "code",
      "source": [
        "plt.plot(history.history['acc'], label='Аккуратность на обучающем наборе')\n",
        "plt.plot(history.history['loss'], label='Функция ошибки')\n",
        "plt.xlabel('Эпоха обучения')\n",
        "plt.ylabel('Аккуратность')\n",
        "plt.legend()\n",
        "plt.show()"
      ],
      "execution_count": 10,
      "outputs": [
        {
          "output_type": "display_data",
          "data": {
            "image/png": "[encoded data removed]",
            "text/plain": [
              "<Figure size 576x396 with 1 Axes>"
            ]
          },
          "metadata": {
            "tags": []
          }
        }
      ]
    },
    {
      "metadata": {
        "colab_type": "text",
        "id": "9yrAkNfaJrjf"
      },
      "cell_type": "markdown",
      "source": [
        "**Симмулируем работу сети после обучения **"
      ]
    },
    {
      "metadata": {
        "colab_type": "code",
        "id": "LgPweEzqJrjm",
        "outputId": "a14628b4-5f3f-479a-b697-dd818f78c99c",
        "colab": {
          "base_uri": "https://localhost:8080/",
          "height": 85
        }
      },
      "cell_type": "code",
      "source": [
        "#from sklearn import preprocessing\n",
        "prediction1 = model1.predict(x_train)\n",
        "#normalized_pred = preprocessing.normalize(prediction1)\n",
        "print(prediction1)"
      ],
      "execution_count": 11,
      "outputs": [
        {
          "output_type": "stream",
          "text": [
            "[[0.        ]\n",
            " [0.06011683]\n",
            " [0.        ]\n",
            " [0.9559172 ]]\n"
          ],
          "name": "stdout"
        }
      ]
    },
    {
      "metadata": {
        "id": "3SN1zjo56a10",
        "colab_type": "text"
      },
      "cell_type": "markdown",
      "source": [
        "**Ответ отличается от правильного примерно лишь на 0.02**"
      ]
    },
    {
      "metadata": {
        "id": "gbdWcUbo0Js5",
        "colab_type": "code",
        "outputId": "bb41bc0f-a179-4bea-c82c-6fb0e43ae736",
        "colab": {
          "base_uri": "https://localhost:8080/",
          "height": 85
        }
      },
      "cell_type": "code",
      "source": [
        "print(y_train)"
      ],
      "execution_count": 12,
      "outputs": [
        {
          "output_type": "stream",
          "text": [
            "[[0]\n",
            " [0]\n",
            " [0]\n",
            " [1]]\n"
          ],
          "name": "stdout"
        }
      ]
    },
    {
      "metadata": {
        "id": "_w2W1KzlHjiI",
        "colab_type": "code",
        "colab": {}
      },
      "cell_type": "code",
      "source": [
        ""
      ],
      "execution_count": 0,
      "outputs": []
    },
    {
      "metadata": {
        "id": "36npk9aZvOvs",
        "colab_type": "text"
      },
      "cell_type": "markdown",
      "source": [
        "# Пример 2"
      ]
    },
    {
      "metadata": {
        "id": "q8SMjqXNlCGb",
        "colab_type": "code",
        "colab": {}
      },
      "cell_type": "code",
      "source": [
        "import numpy as np2 # работа с многомерными массивами\n",
        "from keras.models import Sequential # последовательная модель  \n",
        "from keras.layers import Dense # полносвязные слои\n",
        "from keras.utils import np_utils # дополнительные возможности для работы с массивами\n",
        "import matplotlib.pyplot as plt # построение графиков\n",
        "import matplotlib.pylab as pl\n",
        "from keras import optimizers # функции оптимизаторов\n",
        "from sklearn import preprocessing # нормализация выходных данных"
      ],
      "execution_count": 0,
      "outputs": []
    },
    {
      "metadata": {
        "id": "1vqNUhhw5Kq2",
        "colab_type": "code",
        "colab": {}
      },
      "cell_type": "code",
      "source": [
        "x2_train = np2.array([[0, 0], [0, 1], [1, 0], [1, 1]])\n",
        "y2_train = np2.array([[0], [1], [1], [1]])"
      ],
      "execution_count": 0,
      "outputs": []
    },
    {
      "metadata": {
        "id": "RGS5BHKjwNR7",
        "colab_type": "code",
        "colab": {}
      },
      "cell_type": "code",
      "source": [
        "model2 = Sequential()\n",
        "model2.add(Dense(1, input_dim=2, activation=\"relu\"))"
      ],
      "execution_count": 0,
      "outputs": []
    },
    {
      "metadata": {
        "id": "9PHvZRbw5RDL",
        "colab_type": "code",
        "colab": {}
      },
      "cell_type": "code",
      "source": [
        "sgd2 = optimizers.SGD(lr=0.1, decay=1e-6, momentum=0.9, nesterov=True)\n",
        "\n",
        "model2.compile(loss=\"mean_squared_error\", optimizer=sgd2, metrics=['accuracy'])"
      ],
      "execution_count": 0,
      "outputs": []
    },
    {
      "metadata": {
        "id": "44L14Q5eAtZj",
        "colab_type": "code",
        "outputId": "0f484089-5a07-4569-a505-d2c0399ca444",
        "colab": {
          "base_uri": "https://localhost:8080/",
          "height": 85
        }
      },
      "cell_type": "code",
      "source": [
        "prediction2 = model2.predict(x2_train)\n",
        "print(prediction2)"
      ],
      "execution_count": 0,
      "outputs": [
        {
          "output_type": "stream",
          "text": [
            "[[0.        ]\n",
            " [0.61915886]\n",
            " [0.8542756 ]\n",
            " [1.4734344 ]]\n"
          ],
          "name": "stdout"
        }
      ]
    },
    {
      "metadata": {
        "id": "ZR_9TWjI5TIi",
        "colab_type": "code",
        "outputId": "8d0ffbba-e738-42dc-dcca-4ae1bea6b74b",
        "colab": {
          "base_uri": "https://localhost:8080/",
          "height": 697
        }
      },
      "cell_type": "code",
      "source": [
        "history2 = model2.fit(x2_train, y2_train, epochs=20, verbose=1)"
      ],
      "execution_count": 0,
      "outputs": [
        {
          "output_type": "stream",
          "text": [
            "Epoch 1/20\n",
            "4/4 [==============================] - 0s 15ms/step - loss: 0.0976 - acc: 1.0000\n",
            "Epoch 2/20\n",
            "4/4 [==============================] - 0s 316us/step - loss: 0.0924 - acc: 1.0000\n",
            "Epoch 3/20\n",
            "4/4 [==============================] - 0s 477us/step - loss: 0.0868 - acc: 1.0000\n",
            "Epoch 4/20\n",
            "4/4 [==============================] - 0s 254us/step - loss: 0.0812 - acc: 1.0000\n",
            "Epoch 5/20\n",
            "4/4 [==============================] - 0s 246us/step - loss: 0.0758 - acc: 1.0000\n",
            "Epoch 6/20\n",
            "4/4 [==============================] - 0s 228us/step - loss: 0.0711 - acc: 1.0000\n",
            "Epoch 7/20\n",
            "4/4 [==============================] - 0s 231us/step - loss: 0.0675 - acc: 1.0000\n",
            "Epoch 8/20\n",
            "4/4 [==============================] - 0s 223us/step - loss: 0.0650 - acc: 1.0000\n",
            "Epoch 9/20\n",
            "4/4 [==============================] - 0s 234us/step - loss: 0.0636 - acc: 1.0000\n",
            "Epoch 10/20\n",
            "4/4 [==============================] - 0s 1ms/step - loss: 0.0630 - acc: 1.0000\n",
            "Epoch 11/20\n",
            "4/4 [==============================] - 0s 762us/step - loss: 0.0630 - acc: 1.0000\n",
            "Epoch 12/20\n",
            "4/4 [==============================] - 0s 687us/step - loss: 0.0634 - acc: 1.0000\n",
            "Epoch 13/20\n",
            "4/4 [==============================] - 0s 604us/step - loss: 0.0639 - acc: 1.0000\n",
            "Epoch 14/20\n",
            "4/4 [==============================] - 0s 371us/step - loss: 0.0645 - acc: 1.0000\n",
            "Epoch 15/20\n",
            "4/4 [==============================] - 0s 678us/step - loss: 0.0649 - acc: 1.0000\n",
            "Epoch 16/20\n",
            "4/4 [==============================] - 0s 464us/step - loss: 0.0652 - acc: 1.0000\n",
            "Epoch 17/20\n",
            "4/4 [==============================] - 0s 302us/step - loss: 0.0653 - acc: 1.0000\n",
            "Epoch 18/20\n",
            "4/4 [==============================] - 0s 350us/step - loss: 0.0652 - acc: 1.0000\n",
            "Epoch 19/20\n",
            "4/4 [==============================] - 0s 338us/step - loss: 0.0650 - acc: 1.0000\n",
            "Epoch 20/20\n",
            "4/4 [==============================] - 0s 291us/step - loss: 0.0646 - acc: 1.0000\n"
          ],
          "name": "stdout"
        }
      ]
    },
    {
      "metadata": {
        "id": "q7YwweLAFuXx",
        "colab_type": "code",
        "outputId": "da858899-0a91-4fd8-b531-feca0010b599",
        "colab": {
          "base_uri": "https://localhost:8080/",
          "height": 34
        }
      },
      "cell_type": "code",
      "source": [
        "scores = model2.evaluate(x2_train, y2_train, verbose=0)\n",
        "print(\"Точность работы на тестовых данных: %.2f%%\" % (scores[1]*100))"
      ],
      "execution_count": 0,
      "outputs": [
        {
          "output_type": "stream",
          "text": [
            "Точность работы на тестовых данных: 100.00%\n"
          ],
          "name": "stdout"
        }
      ]
    },
    {
      "metadata": {
        "id": "3yIy8nZxwEe6",
        "colab_type": "code",
        "outputId": "72f4ca84-c9b1-40a6-a8a5-613c9c9bb647",
        "colab": {
          "base_uri": "https://localhost:8080/",
          "height": 361
        }
      },
      "cell_type": "code",
      "source": [
        "plt.plot(history2.history['acc'], label='Аккуратность на обучающем наборе')\n",
        "plt.plot(history2.history['loss'], label='Функция ошибки')\n",
        "plt.xlabel('Эпоха обучения')\n",
        "plt.ylabel('Аккуратность')\n",
        "plt.legend()\n",
        "plt.show()"
      ],
      "execution_count": 0,
      "outputs": [
        {
          "output_type": "display_data",
          "data": {
            "image/png": "[encoded data removed]",
            "text/plain": [
              "<matplotlib.figure.Figure at 0x7ff601a14dd8>"
            ]
          },
          "metadata": {
            "tags": []
          }
        }
      ]
    },
    {
      "metadata": {
        "id": "e_S2aTytI1Sd",
        "colab_type": "text"
      },
      "cell_type": "markdown",
      "source": [
        "**Тест**"
      ]
    },
    {
      "metadata": {
        "id": "BMP38xTnI_F6",
        "colab_type": "code",
        "outputId": "e24d9a1c-7aa1-477c-8a70-e22c34cf6b8e",
        "colab": {
          "base_uri": "https://localhost:8080/",
          "height": 85
        }
      },
      "cell_type": "code",
      "source": [
        "prediction2 = model2.predict(x2_train)\n",
        "print(prediction2)"
      ],
      "execution_count": 0,
      "outputs": [
        {
          "output_type": "stream",
          "text": [
            "[[0.3180252 ]\n",
            " [0.76901984]\n",
            " [0.75277877]\n",
            " [1.2037734 ]]\n"
          ],
          "name": "stdout"
        }
      ]
    },
    {
      "metadata": {
        "id": "DBNXTkYX-s3z",
        "colab_type": "text"
      },
      "cell_type": "markdown",
      "source": [
        "**Правильный ответ**"
      ]
    },
    {
      "metadata": {
        "id": "kefuZLJnRg65",
        "colab_type": "code",
        "outputId": "3b565cdd-f164-45e0-f217-c61bca0c60a5",
        "colab": {
          "base_uri": "https://localhost:8080/",
          "height": 85
        }
      },
      "cell_type": "code",
      "source": [
        "print(y2_train)"
      ],
      "execution_count": 0,
      "outputs": [
        {
          "output_type": "stream",
          "text": [
            "[[0]\n",
            " [1]\n",
            " [1]\n",
            " [1]]\n"
          ],
          "name": "stdout"
        }
      ]
    },
    {
      "metadata": {
        "id": "yPFQJgIXyasP",
        "colab_type": "text"
      },
      "cell_type": "markdown",
      "source": [
        "# Пример 3"
      ]
    },
    {
      "metadata": {
        "id": "X7CeKXPClDbL",
        "colab_type": "code",
        "colab": {}
      },
      "cell_type": "code",
      "source": [
        "import numpy as np3 # работа с многомерными массивами\n",
        "from keras.models import Sequential # последовательная модель  \n",
        "from keras.layers import Dense # полносвязные слои\n",
        "from keras.utils import np_utils # дополнительные возможности для работы с массивами\n",
        "import matplotlib.pyplot as plt # построение графиков\n",
        "import matplotlib.pylab as pl\n",
        "from keras import optimizers # функции оптимизаторов"
      ],
      "execution_count": 0,
      "outputs": []
    },
    {
      "metadata": {
        "id": "tXH_qzGLydCU",
        "colab_type": "code",
        "colab": {}
      },
      "cell_type": "code",
      "source": [
        "x3_train = np3.array([[-0.5, -0.5], [-0.5, 0.5], [0.4, -0.4], [-0.2, 1.0]])\n",
        "y3_train = np3.array([1, 1, 0, 0])"
      ],
      "execution_count": 0,
      "outputs": []
    },
    {
      "metadata": {
        "id": "FQlNVKl604Dc",
        "colab_type": "code",
        "colab": {}
      },
      "cell_type": "code",
      "source": [
        "model3 = Sequential()\n",
        "model3.add(Dense(1, input_dim=2, activation=\"relu\"))"
      ],
      "execution_count": 0,
      "outputs": []
    },
    {
      "metadata": {
        "id": "4Uu-pksJ06_r",
        "colab_type": "code",
        "colab": {}
      },
      "cell_type": "code",
      "source": [
        "sgd3 = optimizers.SGD(lr=0.1, decay=1e-6, momentum=0.9, nesterov=True)\n",
        "#adam3 = optimizers.Adam(lr=0.01, beta_1=0.9, beta_2=0.999, epsilon=None, decay=1e-6, amsgrad=False)\n",
        "model3.compile(loss=\"mean_squared_error\", optimizer=sgd3, metrics=['accuracy'])\n",
        "#print(model1.summary()) # выводим информация о модели"
      ],
      "execution_count": 0,
      "outputs": []
    },
    {
      "metadata": {
        "id": "LpVNUg9JE6U8",
        "colab_type": "code",
        "outputId": "622803f9-471d-494e-be8d-de6edc757951",
        "colab": {
          "base_uri": "https://localhost:8080/",
          "height": 85
        }
      },
      "cell_type": "code",
      "source": [
        "prediction3 = model3.predict(x3_train)\n",
        "print(prediction3)"
      ],
      "execution_count": 0,
      "outputs": [
        {
          "output_type": "stream",
          "text": [
            "[[0.01417798]\n",
            " [0.60279995]\n",
            " [0.        ]\n",
            " [0.71201754]]\n"
          ],
          "name": "stdout"
        }
      ]
    },
    {
      "metadata": {
        "id": "0m2L455U0-OI",
        "colab_type": "code",
        "outputId": "0c9efdba-21c6-4d63-9156-dbf0ddd9b872",
        "colab": {
          "base_uri": "https://localhost:8080/",
          "height": 697
        }
      },
      "cell_type": "code",
      "source": [
        "history3 = model3.fit(x3_train, y3_train, epochs=20, verbose=1)"
      ],
      "execution_count": 0,
      "outputs": [
        {
          "output_type": "stream",
          "text": [
            "Epoch 1/20\n",
            "4/4 [==============================] - 0s 99ms/step - loss: 0.4091 - acc: 0.5000\n",
            "Epoch 2/20\n",
            "4/4 [==============================] - 0s 451us/step - loss: 0.3306 - acc: 0.5000\n",
            "Epoch 3/20\n",
            "4/4 [==============================] - 0s 509us/step - loss: 0.2435 - acc: 0.5000\n",
            "Epoch 4/20\n",
            "4/4 [==============================] - 0s 303us/step - loss: 0.1637 - acc: 0.7500\n",
            "Epoch 5/20\n",
            "4/4 [==============================] - 0s 224us/step - loss: 0.1012 - acc: 0.7500\n",
            "Epoch 6/20\n",
            "4/4 [==============================] - 0s 321us/step - loss: 0.0599 - acc: 1.0000\n",
            "Epoch 7/20\n",
            "4/4 [==============================] - 0s 245us/step - loss: 0.0413 - acc: 1.0000\n",
            "Epoch 8/20\n",
            "4/4 [==============================] - 0s 329us/step - loss: 0.0400 - acc: 1.0000\n",
            "Epoch 9/20\n",
            "4/4 [==============================] - 0s 659us/step - loss: 0.0478 - acc: 1.0000\n",
            "Epoch 10/20\n",
            "4/4 [==============================] - 0s 264us/step - loss: 0.0577 - acc: 1.0000\n",
            "Epoch 11/20\n",
            "4/4 [==============================] - 0s 326us/step - loss: 0.0645 - acc: 1.0000\n",
            "Epoch 12/20\n",
            "4/4 [==============================] - 0s 429us/step - loss: 0.0662 - acc: 1.0000\n",
            "Epoch 13/20\n",
            "4/4 [==============================] - 0s 379us/step - loss: 0.0639 - acc: 1.0000\n",
            "Epoch 14/20\n",
            "4/4 [==============================] - 0s 2ms/step - loss: 0.0594 - acc: 1.0000\n",
            "Epoch 15/20\n",
            "4/4 [==============================] - 0s 537us/step - loss: 0.0538 - acc: 1.0000\n",
            "Epoch 16/20\n",
            "4/4 [==============================] - 0s 348us/step - loss: 0.0469 - acc: 1.0000\n",
            "Epoch 17/20\n",
            "4/4 [==============================] - 0s 669us/step - loss: 0.0391 - acc: 1.0000\n",
            "Epoch 18/20\n",
            "4/4 [==============================] - 0s 697us/step - loss: 0.0314 - acc: 1.0000\n",
            "Epoch 19/20\n",
            "4/4 [==============================] - 0s 448us/step - loss: 0.0258 - acc: 1.0000\n",
            "Epoch 20/20\n",
            "4/4 [==============================] - 0s 630us/step - loss: 0.0224 - acc: 1.0000\n"
          ],
          "name": "stdout"
        }
      ]
    },
    {
      "metadata": {
        "id": "aFY6_wxQF5nj",
        "colab_type": "code",
        "outputId": "2aa915a5-0314-4f21-8578-9d7f08986343",
        "colab": {
          "base_uri": "https://localhost:8080/",
          "height": 34
        }
      },
      "cell_type": "code",
      "source": [
        "scores = model3.evaluate(x3_train, y3_train, verbose=0)\n",
        "print(\"Точность работы на тестовых данных: %.2f%%\" % (scores[1]*100))"
      ],
      "execution_count": 0,
      "outputs": [
        {
          "output_type": "stream",
          "text": [
            "Точность работы на тестовых данных: 100.00%\n"
          ],
          "name": "stdout"
        }
      ]
    },
    {
      "metadata": {
        "id": "IuIoNkcB1kEj",
        "colab_type": "code",
        "outputId": "4cabe398-c23b-4396-a070-fbd7ec8c6345",
        "colab": {
          "base_uri": "https://localhost:8080/",
          "height": 361
        }
      },
      "cell_type": "code",
      "source": [
        "plt.plot(history3.history['acc'], label='Аккуратность на обучающем наборе')\n",
        "plt.plot(history3.history['loss'], label='Функция ошибки')\n",
        "plt.xlabel('Эпоха обучения')\n",
        "plt.ylabel('Аккуратность')\n",
        "plt.legend()\n",
        "plt.show()"
      ],
      "execution_count": 0,
      "outputs": [
        {
          "output_type": "display_data",
          "data": {
            "image/png": "[encoded data removed]",
            "text/plain": [
              "<matplotlib.figure.Figure at 0x7f9f52350a58>"
            ]
          },
          "metadata": {
            "tags": []
          }
        }
      ]
    },
    {
      "metadata": {
        "id": "qcU4bXa22-2k",
        "colab_type": "code",
        "outputId": "4b1423cb-a436-4625-a4c8-3d84e82e4093",
        "colab": {
          "base_uri": "https://localhost:8080/",
          "height": 347
        }
      },
      "cell_type": "code",
      "source": [
        "plt.plot([-0.5, -0.5],[-0.5, 0.5], 'ro')\n",
        "plt.plot([0.4, -0.4], [-0.2, 1.0], 'bs')\n",
        "plt.show()"
      ],
      "execution_count": 0,
      "outputs": [
        {
          "output_type": "display_data",
          "data": {
            "image/png": "[encoded data removed]",
            "text/plain": [
              "<matplotlib.figure.Figure at 0x7f9f522fc9b0>"
            ]
          },
          "metadata": {
            "tags": []
          }
        }
      ]
    },
    {
      "metadata": {
        "id": "cLDKJN3lTYB5",
        "colab_type": "text"
      },
      "cell_type": "markdown",
      "source": [
        "# Графики функций"
      ]
    },
    {
      "metadata": {
        "id": "aCyHXiIGVLVv",
        "colab_type": "text"
      },
      "cell_type": "markdown",
      "source": [
        "http://deep.uran.ru/wiki/index.php?title=%D0%AD%D0%BA%D1%81%D0%BF%D0%B5%D1%80%D0%B8%D0%BC%D0%B5%D0%BD%D1%82%D1%8B_%D1%81_%D0%BC%D0%BD%D0%BE%D0%B3%D0%BE%D1%81%D0%BB%D0%BE%D0%B9%D0%BD%D1%8B%D0%BC_%D0%BF%D0%B5%D1%80%D1%86%D0%B5%D0%BF%D1%82%D1%80%D0%BE%D0%BD%D0%BE%D0%BC_%D0%B2_Keras\n",
        "\n",
        "https://neurohive.io/ru/osnovy-data-science/activation-functions/?fbclid=IwAR2KLCrDVHvqcoD2N-ghcodEkNxeSOoGGzB24GcpgR3ueZMbin76y52LS3o\n",
        "\n",
        "https://schwalbe10.github.io/thinkage/2017/02/12/activation.html"
      ]
    },
    {
      "metadata": {
        "id": "NYeDJF4cTkfX",
        "colab_type": "text"
      },
      "cell_type": "markdown",
      "source": [
        "**Softmax**"
      ]
    },
    {
      "metadata": {
        "id": "RQSVKZiTkeG0",
        "colab_type": "text"
      },
      "cell_type": "markdown",
      "source": [
        "**Softmax**, **relu**, **sigmoid**"
      ]
    },
    {
      "metadata": {
        "id": "1mbqW1kzfYWt",
        "colab_type": "code",
        "outputId": "405d48e2-7061-4c95-8f0e-cec4f726fba0",
        "colab": {
          "base_uri": "https://localhost:8080/",
          "height": 367
        }
      },
      "cell_type": "code",
      "source": [
        "#import numpy as np\n",
        "#import matplotlib.pylab as plt\n",
        "\n",
        "\n",
        "def step(x):\n",
        "    return np.array(x > 0, dtype=np.int)\n",
        "\n",
        "def sigmoid(x):\n",
        "    return 1 / (1 + np.exp(-x))\n",
        "\n",
        "def relu(x):\n",
        "    return np.maximum(0, x)\n",
        "\n",
        "x = np.arange(-5.0, 5.0, 0.1)\n",
        "y_step = step(x)\n",
        "y_sigmoid = sigmoid(x)\n",
        "y_relu = relu(x)\n",
        "\n",
        "plt.plot(x, y_step, label='Step', color='k', lw=1, linestyle=None)\n",
        "plt.plot(x, y_sigmoid, label='Sigmoid', color='k', lw=1, ls='--')\n",
        "plt.plot(x, y_relu, label='ReLU', color='k', lw=1, linestyle='-.')\n",
        "plt.ylim(-0.1, 1.1)\n",
        "plt.legend()\n",
        "plt.show()"
      ],
      "execution_count": 0,
      "outputs": [
        {
          "output_type": "display_data",
          "data": {
            "image/png": "[encoded data removed]",
            "text/plain": [
              "<matplotlib.figure.Figure at 0x7f9c73765dd8>"
            ]
          },
          "metadata": {
            "tags": []
          }
        }
      ]
    }
  ]
}